{
 "cells": [
  {
   "cell_type": "markdown",
   "id": "05d29805",
   "metadata": {},
   "source": [
    "# Valid Anagram- Leetcode-242-Python"
   ]
  },
  {
   "cell_type": "code",
   "execution_count": 38,
   "id": "3a1ae1cb",
   "metadata": {},
   "outputs": [
    {
     "data": {
      "text/plain": [
       "True"
      ]
     },
     "execution_count": 38,
     "metadata": {},
     "output_type": "execute_result"
    }
   ],
   "source": [
    "# this is the simplest implementation using the inbuilt function using sorted() method, which is an inbuilt function in Python.\n",
    "# not recommeded\n",
    "\n",
    "first_string = \"anagram\"\n",
    "sec_string = \"nagaram\"\n",
    "def anagram_using_sort():\n",
    "    if sorted(first_string) == sorted(sec_string):\n",
    "        return True\n",
    "    else:\n",
    "        return False\n",
    "    \n",
    "anagram_using_sort()"
   ]
  },
  {
   "cell_type": "code",
   "execution_count": 33,
   "id": "dc79a9b5",
   "metadata": {},
   "outputs": [
    {
     "name": "stdout",
     "output_type": "stream",
     "text": [
      "{'l': 1, 'i': 1, 's': 1, 't': 1, 'e': 1, 'n': 1}\n",
      "{'s': 1, 'i': 1, 'l': 1, 'e': 1, 'n': 1, 't': 1}\n"
     ]
    },
    {
     "data": {
      "text/plain": [
       "True"
      ]
     },
     "execution_count": 33,
     "metadata": {},
     "output_type": "execute_result"
    }
   ],
   "source": [
    "# solviing the problem using dictionary(hashmap)\n",
    "# recommended\n",
    "\n",
    "def check_if_strings_are_anagram(source: str, target: str) -> bool:\n",
    "    if len(source) != len(target):\n",
    "        return False\n",
    "    source_dict = {}\n",
    "    target_dict = {}\n",
    "\n",
    "    for i in range(len(source)):\n",
    "        source_dict[source[i]] = source_dict.get(source[i], 0) + 1\n",
    "        target_dict[target[i]] = target_dict.get(target[i], 0) + 1\n",
    "        \n",
    "    print(source_dict)\n",
    "    print(target_dict)\n",
    "\n",
    "    return source_dict == target_dict\n",
    "\n",
    "\n",
    "source = \"listen\"\n",
    "target = \"silent\"\n",
    "check_if_strings_are_anagram(source, target)\n",
    "\n",
    "# step 1: check if length of both the strings are equal, if not returns False.\n",
    "# step 2: create two empty dictionaries for source and target strings.\n",
    "# step 3: It then loops through each character in both strings and adds them to their respective dictionaries.\n",
    "# step 4: get() method is used to retrieve the values of a key from a dictionary. If the key does not exist in the dictionary, it returns a default value 0.\n",
    "# step 5: It checks if both the dictionaries are equal and then returns the boolean value as the output.\n"
   ]
  },
  {
   "cell_type": "markdown",
   "id": "c13ab9b3",
   "metadata": {},
   "source": [
    "# Two Sum- Leetcode-1-Hashmap-Python "
   ]
  },
  {
   "cell_type": "code",
   "execution_count": 15,
   "id": "4eea248f",
   "metadata": {},
   "outputs": [
    {
     "name": "stdout",
     "output_type": "stream",
     "text": [
      "4 0\n"
     ]
    }
   ],
   "source": [
    "# using the bruteforce approach, iterating through each element using loop and checkig their values.\n",
    "# Not recommended\n",
    "\n",
    "nums = [2, 3, 11, 15,7]\n",
    "target = 9\n",
    "\n",
    "index_1 = 0\n",
    "index_2 = 0\n",
    "\n",
    "for i in range(len(nums)):\n",
    "    for j in range(len(nums)):\n",
    "        if nums[i] + nums[j] == target:\n",
    "            index_1 = i\n",
    "            index_2 = j\n",
    "            \n",
    "print(index_1,index_2)"
   ]
  },
  {
   "cell_type": "code",
   "execution_count": 17,
   "id": "5ada7786",
   "metadata": {},
   "outputs": [
    {
     "ename": "SyntaxError",
     "evalue": "invalid syntax (3815688300.py, line 5)",
     "output_type": "error",
     "traceback": [
      "\u001b[1;36m  Cell \u001b[1;32mIn[17], line 5\u001b[1;36m\u001b[0m\n\u001b[1;33m    diff target - n\u001b[0m\n\u001b[1;37m         ^\u001b[0m\n\u001b[1;31mSyntaxError\u001b[0m\u001b[1;31m:\u001b[0m invalid syntax\n"
     ]
    }
   ],
   "source": [
    "class solution:\n",
    "    def two_sum()"
   ]
  }
 ],
 "metadata": {
  "kernelspec": {
   "display_name": "Python 3 (ipykernel)",
   "language": "python",
   "name": "python3"
  },
  "language_info": {
   "codemirror_mode": {
    "name": "ipython",
    "version": 3
   },
   "file_extension": ".py",
   "mimetype": "text/x-python",
   "name": "python",
   "nbconvert_exporter": "python",
   "pygments_lexer": "ipython3",
   "version": "3.11.2"
  }
 },
 "nbformat": 4,
 "nbformat_minor": 5
}
