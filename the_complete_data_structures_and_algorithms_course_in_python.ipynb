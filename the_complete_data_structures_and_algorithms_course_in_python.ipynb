{
 "cells": [
  {
   "cell_type": "markdown",
   "id": "15776e2f",
   "metadata": {},
   "source": [
    "# 2. Recursion"
   ]
  },
  {
   "cell_type": "code",
   "execution_count": 2,
   "id": "c1f7a78f",
   "metadata": {},
   "outputs": [
    {
     "name": "stdout",
     "output_type": "stream",
     "text": [
      "All dolls are opened\n",
      "2\n",
      "3\n",
      "4\n"
     ]
    }
   ],
   "source": [
    "#### Russian Doll recursive function ###\n",
    "\n",
    "def openRussianDoll(doll):\n",
    "    if doll == 1:\n",
    "        print(\"All dolls are opened\")\n",
    "    else:\n",
    "        openRussianDoll(doll-1)\n",
    "\n",
    "\n",
    "openRussianDoll(4)"
   ]
  },
  {
   "cell_type": "code",
   "execution_count": 3,
   "id": "5ad56c0b",
   "metadata": {},
   "outputs": [
    {
     "name": "stdout",
     "output_type": "stream",
     "text": [
      "I am the fourth Method\n",
      "I am the third Method\n",
      "I am the second Method\n",
      "I am the first Method\n"
     ]
    }
   ],
   "source": [
    "def firstMethod():\n",
    "    secondMethod()\n",
    "    print(\"I am the first Method\")\n",
    "\n",
    "def secondMethod():\n",
    "    thirdMethod()\n",
    "    print(\"I am the second Method\")\n",
    "\n",
    "def thirdMethod():\n",
    "    fourthMethod()\n",
    "    print(\"I am the third Method\")\n",
    "\n",
    "def fourthMethod():\n",
    "    print(\"I am the fourth Method\")\n",
    "\n",
    "\n",
    "firstMethod()"
   ]
  },
  {
   "cell_type": "code",
   "execution_count": 4,
   "id": "3323c983",
   "metadata": {},
   "outputs": [
    {
     "name": "stdout",
     "output_type": "stream",
     "text": [
      "n is less than 1\n",
      "1\n",
      "2\n",
      "3\n",
      "4\n"
     ]
    }
   ],
   "source": [
    "def recursiveMethod(n):\n",
    "    if n<1:\n",
    "        print(\"n is less than 1\")\n",
    "    else: \n",
    "        recursiveMethod(n-1)\n",
    "        print(n)\n",
    "\n",
    "recursiveMethod(4)"
   ]
  },
  {
   "cell_type": "code",
   "execution_count": 5,
   "id": "1146e954",
   "metadata": {},
   "outputs": [
    {
     "name": "stdout",
     "output_type": "stream",
     "text": [
      "8\n"
     ]
    }
   ],
   "source": [
    "## Recursion vs Iterarion ##\n",
    "\n",
    "def powerOfTwo(n):\n",
    "    if n == 0:\n",
    "         return 1\n",
    "    else:\n",
    "        power = powerOfTwo(n-1)\n",
    "        return power * 2\n",
    "\n",
    "print(powerOfTwo(3))"
   ]
  },
  {
   "cell_type": "code",
   "execution_count": 6,
   "id": "4d73bd37",
   "metadata": {},
   "outputs": [
    {
     "name": "stdout",
     "output_type": "stream",
     "text": [
      "16\n"
     ]
    }
   ],
   "source": [
    "def powerOfTwoIt(n):\n",
    "    i = 0\n",
    "    power = 1\n",
    "    while i < n:\n",
    "        power = power * 2\n",
    "        i = i + 1\n",
    "    return power\n",
    "\n",
    "\n",
    "print(powerOfTwoIt(4))"
   ]
  },
  {
   "cell_type": "code",
   "execution_count": 8,
   "id": "45904d6d",
   "metadata": {},
   "outputs": [
    {
     "name": "stdout",
     "output_type": "stream",
     "text": [
      "5040\n"
     ]
    }
   ],
   "source": [
    "## Factorial ##\n",
    "def factorial(n):\n",
    "    assert n >= 0 and int(n) == n, 'The number must be positive integer only!'\n",
    "    if n in [0,1]:\n",
    "        return 1\n",
    "    else:\n",
    "        return n * factorial(n-1)\n",
    "print(factorial())"
   ]
  },
  {
   "cell_type": "code",
   "execution_count": null,
   "id": "3b9c41bb",
   "metadata": {},
   "outputs": [],
   "source": [
    "## Fibonacci ##\n",
    "\n",
    "def fibonacci(n):\n",
    "    assert n >=0 and int(n) == n , 'Fibonacci number cannot be negative number or non integer.'\n",
    "    if n in [0,1]:\n",
    "        return n\n",
    "    else:\n",
    "        return fibonacci(n-1) + fibonacci(n-2)\n",
    "\n",
    "print(fibonacci(7))"
   ]
  }
 ],
 "metadata": {
  "kernelspec": {
   "display_name": "Python 3 (ipykernel)",
   "language": "python",
   "name": "python3"
  },
  "language_info": {
   "codemirror_mode": {
    "name": "ipython",
    "version": 3
   },
   "file_extension": ".py",
   "mimetype": "text/x-python",
   "name": "python",
   "nbconvert_exporter": "python",
   "pygments_lexer": "ipython3",
   "version": "3.11.2"
  }
 },
 "nbformat": 4,
 "nbformat_minor": 5
}
